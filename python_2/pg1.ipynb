{
 "cells": [
  {
   "cell_type": "code",
   "execution_count": 1,
   "metadata": {
    "collapsed": false
   },
   "outputs": [
    {
     "data": {
      "text/plain": [
       "['www.facebook.com', 'www.yahoo.com']"
      ]
     },
     "execution_count": 1,
     "metadata": {},
     "output_type": "execute_result"
    }
   ],
   "source": [
    "my_list = ['www.facebook.com','www.yahoo.com']\n",
    "my_list\n"
   ]
  },
  {
   "cell_type": "code",
   "execution_count": 2,
   "metadata": {
    "collapsed": false
   },
   "outputs": [
    {
     "name": "stdout",
     "output_type": "stream",
     "text": [
      "www.facebook.com\n",
      "www.yahoo.com\n"
     ]
    }
   ],
   "source": [
    "for num in my_list:\n",
    "    print num"
   ]
  },
  {
   "cell_type": "code",
   "execution_count": 16,
   "metadata": {
    "collapsed": false
   },
   "outputs": [],
   "source": [
    "my_file = open('program/host.txt')"
   ]
  },
  {
   "cell_type": "code",
   "execution_count": 17,
   "metadata": {
    "collapsed": false
   },
   "outputs": [
    {
     "data": {
      "text/plain": [
       "'127.0.0.1 www.facebook.com\\n www.yahoo.com\\n127.0.0.1 www.facebook.com\\n www.yahoo.com\\n'"
      ]
     },
     "execution_count": 17,
     "metadata": {},
     "output_type": "execute_result"
    }
   ],
   "source": [
    "my_file.read()"
   ]
  },
  {
   "cell_type": "code",
   "execution_count": 38,
   "metadata": {
    "collapsed": false
   },
   "outputs": [],
   "source": [
    "ip = \"127.0.0.1\"\n",
    "for num in my_list:\n",
    "   "
   ]
  },
  {
   "cell_type": "code",
   "execution_count": 41,
   "metadata": {
    "collapsed": false
   },
   "outputs": [],
   "source": [
    "my_file = open('program/host.txt','w+')\n",
    "for num in my_list:\n",
    "    my_file.write(ip+' '+num+'\\n')\n"
   ]
  },
  {
   "cell_type": "code",
   "execution_count": 42,
   "metadata": {
    "collapsed": false
   },
   "outputs": [
    {
     "data": {
      "text/plain": [
       "'127.0.0.1 www.facebook.com\\n127.0.0.1 www.yahoo.com\\n'"
      ]
     },
     "execution_count": 42,
     "metadata": {},
     "output_type": "execute_result"
    }
   ],
   "source": [
    "my_file.close()\n",
    "my_file = open('program/host.txt')\n",
    "my_file.read()"
   ]
  },
  {
   "cell_type": "code",
   "execution_count": 49,
   "metadata": {
    "collapsed": false
   },
   "outputs": [
    {
     "ename": "SyntaxError",
     "evalue": "invalid syntax (<ipython-input-49-4d6bb94c3c48>, line 2)",
     "output_type": "error",
     "traceback": [
      "\u001b[0;36m  File \u001b[0;32m\"<ipython-input-49-4d6bb94c3c48>\"\u001b[0;36m, line \u001b[0;32m2\u001b[0m\n\u001b[0;31m    if my_file.read()==:\u001b[0m\n\u001b[0m                       ^\u001b[0m\n\u001b[0;31mSyntaxError\u001b[0m\u001b[0;31m:\u001b[0m invalid syntax\n"
     ]
    }
   ],
   "source": [
    "for num in my_list:\n",
    "    if my_file.read()==:\n",
    "        my_file = open('program/host.txt','w+')\n",
    "        my_file.write(123)\n",
    "        my_file.close()\n",
    "my_file = open('program/host.txt')        \n",
    "my_file.read()    "
   ]
  },
  {
   "cell_type": "code",
   "execution_count": 58,
   "metadata": {
    "collapsed": false
   },
   "outputs": [
    {
     "ename": "IOError",
     "evalue": "File not open for writing",
     "output_type": "error",
     "traceback": [
      "\u001b[0;31m---------------------------------------------------------------------------\u001b[0m",
      "\u001b[0;31mIOError\u001b[0m                                   Traceback (most recent call last)",
      "\u001b[0;32m<ipython-input-58-c97f51e1e353>\u001b[0m in \u001b[0;36m<module>\u001b[0;34m()\u001b[0m\n\u001b[1;32m     45\u001b[0m                 \u001b[1;32mif\u001b[0m \u001b[1;32mnot\u001b[0m \u001b[0many\u001b[0m \u001b[1;33m(\u001b[0m\u001b[0mwebsite\u001b[0m \u001b[1;32min\u001b[0m \u001b[0mline\u001b[0m \u001b[1;32mfor\u001b[0m \u001b[0mwebsite\u001b[0m \u001b[1;32min\u001b[0m \u001b[0mwebsite_list\u001b[0m\u001b[1;33m)\u001b[0m\u001b[1;33m:\u001b[0m\u001b[1;33m\u001b[0m\u001b[0m\n\u001b[1;32m     46\u001b[0m \u001b[1;33m\u001b[0m\u001b[0m\n\u001b[0;32m---> 47\u001b[0;31m                     \u001b[0mfile\u001b[0m\u001b[1;33m.\u001b[0m\u001b[0mwrite\u001b[0m\u001b[1;33m(\u001b[0m\u001b[0mline\u001b[0m\u001b[1;33m)\u001b[0m\u001b[1;33m\u001b[0m\u001b[0m\n\u001b[0m\u001b[1;32m     48\u001b[0m \u001b[1;33m\u001b[0m\u001b[0m\n\u001b[1;32m     49\u001b[0m \u001b[1;33m\u001b[0m\u001b[0m\n",
      "\u001b[0;31mIOError\u001b[0m: File not open for writing"
     ]
    }
   ],
   "source": [
    "\n",
    "import time\n",
    "\n",
    "from datetime import datetime as dt\n",
    "\n",
    "#Using temporary file to test the code\n",
    "\n",
    "host_temp = \"hosts_tmp\"\n",
    "\n",
    "host_location = \"program\\host.txt\"\n",
    "\n",
    "\n",
    "\n",
    "# For Windows r\"C:\\Windows\\System32\\drivers\\etc\\hosts\"\n",
    "\n",
    "\n",
    "\n",
    "#list of websites to be blocked by local computer\n",
    "\n",
    "website_list = [\"www.facebook.com\",\"facebook.com\"]\n",
    "\n",
    "\n",
    "\n",
    "#Ensure all blocked website present in list will be redirected to the localhost\n",
    "\n",
    "redirect = \"127.0.0.1\"\n",
    "file = open('program/host.txt','')\n",
    "while True:\n",
    "            content=file.readlines()\n",
    "\n",
    "\n",
    "\n",
    "            # While reading the file the pointer goes to the EOF post which\n",
    "\n",
    "            #all writes will append. So here we are ensuring the write to happen\n",
    "\n",
    "            #from first location\n",
    "\n",
    "\n",
    "\n",
    "            #We use readlines to get the list of all lines instead of chars\n",
    "\n",
    "            for line in content:\n",
    "\n",
    "                if not any (website in line for website in website_list):\n",
    "\n",
    "                    file.write(line)\n",
    "\n",
    "            \n",
    "\n",
    "\n",
    "\n",
    "            print(\"Free Hours\")\n",
    "\n",
    "\n",
    "\n"
   ]
  },
  {
   "cell_type": "code",
   "execution_count": null,
   "metadata": {
    "collapsed": true
   },
   "outputs": [],
   "source": []
  }
 ],
 "metadata": {
  "kernelspec": {
   "display_name": "Python [default]",
   "language": "python",
   "name": "python2"
  },
  "language_info": {
   "codemirror_mode": {
    "name": "ipython",
    "version": 2
   },
   "file_extension": ".py",
   "mimetype": "text/x-python",
   "name": "python",
   "nbconvert_exporter": "python",
   "pygments_lexer": "ipython2",
   "version": "2.7.12"
  }
 },
 "nbformat": 4,
 "nbformat_minor": 1
}
